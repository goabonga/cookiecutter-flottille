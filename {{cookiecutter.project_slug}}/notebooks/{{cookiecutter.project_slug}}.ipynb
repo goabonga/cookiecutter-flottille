{
 "cells": [
  {
   "cell_type": "markdown",
   "metadata": {},
   "source": [
    "# {{cookiecutter.project_name}}"
   ]
  },
  {
   "cell_type": "code",
   "execution_count": null,
   "metadata": {
    "vscode": {
     "languageId": "plaintext"
    }
   },
   "outputs": [],
   "source": [
    "from {{cookiecutter.project_namespace}}.models.{{cookiecutter.project_name}} import {{cookiecutter.project_class_name}}"
   ]
  }
 ],
 "metadata": {
  "language_info": {
   "name": "python"
  }
 },
 "nbformat": 4,
 "nbformat_minor": 2
}
